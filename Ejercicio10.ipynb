{
 "cells": [
  {
   "cell_type": "markdown",
   "id": "32564ff1",
   "metadata": {},
   "source": [
    "# ejercicio 10 Practica2"
   ]
  },
  {
   "cell_type": "markdown",
   "id": "76333159",
   "metadata": {},
   "source": [
    "abrimos los archivos y los asignamos a variables"
   ]
  },
  {
   "cell_type": "code",
   "execution_count": null,
   "id": "2afe756a",
   "metadata": {},
   "outputs": [],
   "source": [
    "archNombres = open(\"nombres_1.txt\", \"r\", encoding=\"utf-8\")\n",
    "archNotas1 = open(\"eval1.txt\", \"r\", encoding=\"utf-8\")\n",
    "archNotas2 = open(\"eval2.txt\", \"r\", encoding=\"utf-8\")"
   ]
  },
  {
   "cell_type": "markdown",
   "id": "e8704a69",
   "metadata": {},
   "source": [
    "guardo en listas"
   ]
  },
  {
   "cell_type": "code",
   "execution_count": null,
   "id": "5b06d5da",
   "metadata": {},
   "outputs": [],
   "source": [
    "nomb=archNombres.read().split()\n",
    "notas1=archNotas1.read().split(\",\")\n",
    "notas2=archNotas2.read().split(\",\")"
   ]
  },
  {
   "cell_type": "markdown",
   "id": "65f2d7b7",
   "metadata": {},
   "source": [
    "inicializo la variablre nTotal donde sumo todas las notas\n",
    "y creo la lista estudiantes donde voy a guardar a cada estudiante"
   ]
  },
  {
   "cell_type": "code",
   "execution_count": null,
   "id": "7c799245",
   "metadata": {},
   "outputs": [],
   "source": [
    "nTotal=0\n",
    "estudiantes= []"
   ]
  },
  {
   "cell_type": "markdown",
   "id": "8c84cb96",
   "metadata": {},
   "source": [
    "hago un for y en ambas notas guardo la suma de la primera y segunda nota, creo un diccionario para cada estudiante\n",
    "y lo guardo en la lista"
   ]
  },
  {
   "cell_type": "code",
   "execution_count": null,
   "id": "cabd286e",
   "metadata": {},
   "outputs": [],
   "source": [
    "for x in range(len(nomb)):\n",
    "    ambasNotas = int(notas1[x]) + int(notas2[x])\n",
    "    estudiante = {\"nombre\":nomb[x], \"suma de ambas notas\":ambasNotas}\n",
    "    estudiantes.append(estudiante)\n",
    "    nTotal = nTotal + ambasNotas"
   ]
  },
  {
   "cell_type": "markdown",
   "id": "6b9f9ad0",
   "metadata": {},
   "source": [
    "calculo el promedio"
   ]
  },
  {
   "cell_type": "code",
   "execution_count": null,
   "id": "4f42ef2b",
   "metadata": {},
   "outputs": [],
   "source": [
    "promedio = nTotal / len(nomb)"
   ]
  },
  {
   "cell_type": "markdown",
   "id": "5b6d0239",
   "metadata": {},
   "source": [
    "recorro la lista y pregunto a cada alumno si la suma de ambas notas es menor al promedio, informo los nombres de los alumnos que tienen menos nota que el promedio"
   ]
  },
  {
   "cell_type": "code",
   "execution_count": null,
   "id": "4de6a2da",
   "metadata": {},
   "outputs": [],
   "source": [
    "for i in range(len(nomb)):\n",
    "    if estudiantes[i][\"suma de ambas notas\"] < promedio:\n",
    "        print(estudiantes[i][\"nombre\"])"
   ]
  },
  {
   "cell_type": "markdown",
   "id": "f584bfb3",
   "metadata": {},
   "source": [
    "cierro los archivos"
   ]
  },
  {
   "cell_type": "code",
   "execution_count": null,
   "id": "5b0070ba",
   "metadata": {},
   "outputs": [],
   "source": [
    "archNombres.close()\n",
    "archNotas1.close()\n",
    "archNotas2.close()"
   ]
  }
 ],
 "metadata": {
  "kernelspec": {
   "display_name": "Python 3 (ipykernel)",
   "language": "python",
   "name": "python3"
  },
  "language_info": {
   "codemirror_mode": {
    "name": "ipython",
    "version": 3
   },
   "file_extension": ".py",
   "mimetype": "text/x-python",
   "name": "python",
   "nbconvert_exporter": "python",
   "pygments_lexer": "ipython3",
   "version": "3.10.0"
  }
 },
 "nbformat": 4,
 "nbformat_minor": 5
}
